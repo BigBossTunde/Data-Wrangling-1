{
 "cells": [
  {
   "cell_type": "markdown",
   "metadata": {},
   "source": [
    "# Importing my pandas libraries\n",
    "\n",
    "The first thing I did was to import the libraries that I needed for my analysis. Matplotliib & Seaborn for my visualization task, numpy for indexing, and pandas for cleaning.\n",
    "\n",
    "# Data Gathering \n",
    "\n",
    "In this section of my project I gathered the 3 data set that was provided in the project workspace and reading them accordingly into a dataframe using the ‘pd.read_csv’ method. As for the tweet_json.txt file, I had to read it line by line into a dataframe using the code: ‘data = []\n",
    "for line in open ('tweet_json.json', 'r'):\n",
    "    data.append(json.loads(line))’\n",
    "\n",
    "# Quality & Tideness Issues\n",
    "\n",
    "During my exploratory data analysis, I found nine quality issues (six within the twitter archive table, three within the twitter json table and one within the image predictions table). \n",
    "\n",
    "Tidiness Issue\n",
    "\n",
    "I found two tidiness issue within some tables and columns from the datasets\n",
    "\n",
    "# Cleaning Data\n",
    "\n",
    "Here I cleaned the data by first making a copy of all datasets. Secondly, I used the define, code, and test technique to clean my data. \n",
    "\n",
    "All the issues discovered (both quality and tidiness) were cleaned in this section.\n",
    "\n",
    "## Identified issues \n",
    "\n",
    "- **Missing data**: In this case, all columns with ‘NaN’ values were coverted to zero\n",
    "- **Incomplete data**: Converted ‘None’ to empty string indicating that no data was available\n",
    "- **Wrong data type**: Converted the wrong datatype to the correct ones using the written code 'pd.to_timestamp' and 'astype' method\n",
    "- **Wrong Values**: All the rows within the twitter archive and tweet json table has invalid values which was converted to 'NaN'\n",
    "- **Retweet Counts**: Some identified columns were removed to ensure only original tweets are used for analysis\n",
    "- **Dog stages** This one converted to one column instead of having different columns for dog stages \n",
    "- **Merging table** Merged all the tables using the common values present in all the three tables\n",
    "\n",
    "\n",
    "\n",
    "# Storing Data\n",
    "\n",
    "I stored identified data using the ‘to_csv’ code in the section of my analysis\n",
    "\n",
    "\n",
    "Analysing and Visualizing Data\n",
    "\n",
    "In this section of my analysis, I answered three questions for generated my insights and the questions are:\n",
    "- Which tweet_id has the highest retweet?\n",
    "- Which tweet_id was most liked?\n",
    "- What dog breed had the most liked tweet within the 'p1' column?\n",
    "- Visualization - What dog breed had the most mention in 'p3' column\n"
   ]
  }
 ],
 "metadata": {
  "kernelspec": {
   "display_name": "Python 3 (ipykernel)",
   "language": "python",
   "name": "python3"
  },
  "language_info": {
   "codemirror_mode": {
    "name": "ipython",
    "version": 3
   },
   "file_extension": ".py",
   "mimetype": "text/x-python",
   "name": "python",
   "nbconvert_exporter": "python",
   "pygments_lexer": "ipython3",
   "version": "3.8.11"
  }
 },
 "nbformat": 4,
 "nbformat_minor": 2
}
